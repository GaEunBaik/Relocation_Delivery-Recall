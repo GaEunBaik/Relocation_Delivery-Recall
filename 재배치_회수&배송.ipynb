{
 "cells": [
  {
   "cell_type": "code",
   "execution_count": 1,
   "id": "a8f92da6-c890-40fe-8fe5-ef3160b71e70",
   "metadata": {},
   "outputs": [],
   "source": [
    "# ------ 요청사항 ------\n",
    "\n",
    "# 0. 파일 경로 \n",
    "# file_path = r\"D:\\pythondata\\★_재배치_회수.csv\"\n",
    "# file_path = r\"D:\\pythondata\\★_재배치_배송.csv\"\n",
    "# 1. 먼저, 두 파일을 하나의 파일로 합친 후 \n",
    "# 2. 회수 파일과 배송 파일을 구분하기 위해서 \"구분\"이라는 이름의 필드를 마지막 컬럼으로 생성해서 적어두면 좋겠어요.\n",
    "# 3. 원본데이터 필드는 \"자전거번호,대여소,대여소명,날짜,시간\"이고, \"날짜+시간\"이라는 필드를 만들어 주세요.\n",
    "# 4. \"대여소, 날짜, 시간\"으로 정렬(sorting)하고 시작하는데,\n",
    "# 5. No라는 컬럼을 가장 왼쪽에 생성하고, 정렬 순서(단순 정렬 개념)에 따라서 제일 윗줄부터 1로 시작하면 좋겠어요.\n",
    "# 6. 이 파일을 \"5-1_회수배송_데이터(1)\"라는 이름으로 csv파일을 저장해 주세요.\n",
    "# 7. 정리하면, \"두 개 파일(★_재배치_회수.csv, ★_재배치_배송.csv)을 합쳐서 \"구분\"이라는 이름의 필드와 \n",
    "#    \"No\"라는 이름의 필드, \"날짜+시간\" 필드를 새로 만든다. \n",
    "#    \"대여소\"가 낮은 순서(102번부터 시작)이면서 \"날짜+시간\" 필드가 \n",
    "#    빠른 순서(오름차순 정렬, 2023년 1월 1일 0시 0분 0초부터)로 정렬. 정렬된 순서에 따라서 \"No\"의 번호 넣기\" 입니다!"
   ]
  },
  {
   "cell_type": "code",
   "execution_count": 2,
   "id": "9db7c6ec-c564-4e5c-a5bb-b43d107d4a98",
   "metadata": {},
   "outputs": [
    {
     "name": "stdout",
     "output_type": "stream",
     "text": [
      "✅ 5-1 파일 저장 완료! D:\\pythondata\\5-1_회수배송_데이터(1).csv\n"
     ]
    }
   ],
   "source": [
    "import pandas as pd\n",
    "\n",
    "# 0. 파일 경로\n",
    "path_retrieve = r\"D:\\pythondata\\★_재배치_회수.csv\"\n",
    "path_delivery = r\"D:\\pythondata\\★_재배치_배송.csv\"\n",
    "\n",
    "# 1. 파일 불러오기 (탭 구분자 + 인코딩 처리 + 대여소 문자 처리)\n",
    "df_retrieve = pd.read_csv(path_retrieve, encoding='utf-8-sig', sep=\"\\t\", dtype={'대여소': str})\n",
    "df_delivery = pd.read_csv(path_delivery, encoding='utf-8-sig', sep=\"\\t\", dtype={'대여소': str})\n",
    "\n",
    "# 2. '구분' 필드 추가 (일단 추가는 지금 하고, 나중에 마지막 컬럼으로 이동)\n",
    "df_retrieve['구분'] = '회수'\n",
    "df_delivery['구분'] = '배송'\n",
    "\n",
    "# 3. 병합\n",
    "df = pd.concat([df_retrieve, df_delivery], ignore_index=True)\n",
    "\n",
    "# 4. '날짜+시간' 필드 생성\n",
    "df['날짜+시간'] = pd.to_datetime(df['날짜'] + ' ' + df['시간'])\n",
    "\n",
    "# 5. 정렬 기준: ① 대여소 번호를 숫자로 변환해서 정렬 (102가 위로) ② 날짜+시간 오름차순\n",
    "df['대여소_정렬용'] = pd.to_numeric(df['대여소'], errors='coerce')  # 숫자로 변환 불가능한 것은 NaN 처리\n",
    "df = df.sort_values(by=['대여소_정렬용', '날짜+시간']).reset_index(drop=True)\n",
    "df.drop(columns='대여소_정렬용', inplace=True)  # 임시 정렬 컬럼 제거\n",
    "\n",
    "# 6. No 필드 추가 (가장 왼쪽에 삽입)\n",
    "df.insert(0, 'No', df.index + 1)\n",
    "\n",
    "# 7. 컬럼 순서 정리: '구분'은 마지막으로 이동\n",
    "cols = [col for col in df.columns if col != '구분'] + ['구분']\n",
    "df = df[cols]\n",
    "\n",
    "# 8. 저장 및 완료 메시지\n",
    "output_path = r\"D:\\pythondata\\5-1_회수배송_데이터(1).csv\"\n",
    "df.to_csv(output_path, index=False, encoding='utf-8-sig')\n",
    "\n",
    "print(\"✅ 5-1 파일 저장 완료!\", output_path)"
   ]
  },
  {
   "cell_type": "code",
   "execution_count": 3,
   "id": "a996ce13-7461-42d8-8c33-d16a37f97348",
   "metadata": {},
   "outputs": [],
   "source": [
    "# ------ 요청사항 ------\n",
    "\n",
    "# 1. file_path = r\"D:\\pythondata\\5-1_회수배송_데이터(1).csv\"를 다시 읽고,  \n",
    "# 2. 추가해서 만들 필드는 \"방문코드,순번,flag,자전거대수,first data&time,last data&time\" 6개예요. \n",
    "# 3. \"5-2_회수배송_데이터(2).csv\"파일에서 가질 필드는 총 14개이고, \n",
    "#    \"No,자전거번호,대여소,대여소명,날짜,시간,날짜+시간,구분,방문코드,순번,flag,자전거대수,first data&time,last data&time\"으로 순서를 지정해 주세요. \n",
    "#    \"5-1_회수배송_데이터(1).csv\"에 있는 데이터(No,자전거번호,대여소,대여소명,날짜,시간,날짜+시간)는 그대로 두고, \n",
    "#    방문코드부터 last data&time까지 6개 필드를 새로 만드는 거예요. \n",
    "# 4. \"대여소\"(102번 대여소가 가장 위에 와야 함)별로 \"자전거번호\"의 \"날짜+시간\"의 간격이 \"30분\"이상일 때 \"방문코드\"가 변경되는 것이 원칙으로 할 거예요. \n",
    "# 5. \"방문코드\"의 시작 번호는 \"A0000001\"로 시작해야 하구요. \"순번\"은 \"방문코드\"에 따라서 1부터 시작해요. \n",
    "# 6. \"방문코드\"를 세어(count) 준 숫자가 \"자전거대수\" 필드에 들어가야 해요. \n",
    "# 7. \"flag\" 칼럼은 동일한 \"방문코드\"를 가지고 있을 때, 동일한 \"자전거번호\"가 30분 이내에 위아래 행에 위치하면 아래 행에만 \"가짜\"라고 적으면 돼요. \n",
    "# 8. \"first data&time\"과 \"last data&time\"은 동일한 \"방문코드\"의 \"순번\" \"1\"이 \"first data&time\"에 위치하면 되고, \n",
    "#    해당 \"방문코드\"의 \"마지막 순번\"이 \"last data&time\"에 위치하면 돼요.  \n",
    "# 9. \"flag\" 칼럼의 \"가짜\"라는 단어때문에 코딩이 꼬여서 모든 칸이 채워지지 않았으면 좋겠어요. 해당 순번이 있는 행(row)에만 위치하면 돼요.  \n",
    "# 10. \"flag\" 칼럼에 \"가짜\"라는 단어가 있어도, 동일 \"방문코드\"의 마지막 \"순번\"에서 \"날짜+시간\" 중 마지막이요!! \n",
    "# 11. 이 파일의 이름은 \"5-2_회수배송_데이터(2)\"라고 지정해서 저장해 주세요."
   ]
  },
  {
   "cell_type": "code",
   "execution_count": 4,
   "id": "d50d6d30-548a-4923-bf1b-0bf07095d7d5",
   "metadata": {},
   "outputs": [],
   "source": [
    "import pandas as pd\n",
    "from datetime import timedelta\n",
    "\n",
    "# 📌 1. 파일 불러오기\n",
    "file_path = r\"D:\\pythondata\\5-1_회수배송_데이터(1).csv\"\n",
    "df = pd.read_csv(file_path, encoding='utf-8-sig', dtype={\n",
    "    '대여소': str,\n",
    "    '대여소명': str,\n",
    "    '자전거번호': str\n",
    "})\n",
    "df['날짜+시간'] = pd.to_datetime(df['날짜+시간'])"
   ]
  },
  {
   "cell_type": "code",
   "execution_count": 5,
   "id": "f31da0e2-d1ee-4049-bb11-cd2714d0ab26",
   "metadata": {},
   "outputs": [],
   "source": [
    "# ✅ 정확한 방문코드 생성 기준 (정리)\n",
    "# 🔹 방문코드 분기 조건:\n",
    "# 같은 대여소 기준으로,\n",
    "# \"날짜+시간\"이 30분 이상 차이 날 경우, 새로운 방문코드 부여\n",
    "# 자전거번호는 묶음 내부에서만 구분을 위한 정보 (flag 체크 등에 사용)\n",
    "# 🔹 방문코드 관련 요구사항:\n",
    "# 방문코드 시작은 A0000001\n",
    "# 같은 방문코드 내에서는 순번은 1부터 시작\n",
    "# 같은 방문코드 내 자전거대수는 unique한 자전거번호 수\n",
    "# 30분 이내에 동일 자전거가 다시 등장하면 아래행에만 flag = \"가짜\"\n",
    "# 방문코드 내 첫 row는 first data&time, 마지막 row는 last data&time\n",
    "\n",
    "# ✅ 5-2 전체 코드 요약\n",
    "# 이 코드는 다음을 수행합니다:\n",
    "# 5-1_회수배송_데이터(1).csv 읽기\n",
    "# 같은 대여소 기준으로 정렬하고, 30분 이상 간격 발생 시 방문코드 변경\n",
    "# 방문코드 시작은 \"A0000001\"\n",
    "# 순번, 자전거대수, flag, first/last data&time 모두 포함\n",
    "# 최종 열 순서대로 저장"
   ]
  },
  {
   "cell_type": "code",
   "execution_count": 6,
   "id": "a54d5fa8-aec9-4715-8112-c5f5978280d8",
   "metadata": {},
   "outputs": [],
   "source": [
    "# 📌 2. 방문코드 및 순번 생성 (A0000001부터 시작)\n",
    "df['flag'] = ''\n",
    "df['자전거대수'] = 0\n",
    "df['first data&time'] = ''\n",
    "df['last data&time'] = ''\n",
    "\n",
    "df['원래순서'] = df.index\n",
    "df = df.sort_values(by=['대여소', '날짜+시간']).reset_index(drop=True)\n",
    "\n",
    "visit_index = 1\n",
    "visit_code = [f\"A{visit_index:07d}\"]  # A0000001 시작\n",
    "\n",
    "for i in range(1, len(df)):\n",
    "    time_diff = df.loc[i, \"날짜+시간\"] - df.loc[i - 1, \"날짜+시간\"]\n",
    "    location_changed = df.loc[i, \"대여소\"] != df.loc[i - 1, \"대여소\"]\n",
    "    if time_diff.total_seconds() > 1800 or location_changed:\n",
    "        visit_index += 1\n",
    "    visit_code.append(f\"A{visit_index:07d}\")\n",
    "\n",
    "df[\"방문코드\"] = visit_code\n",
    "df[\"순번\"] = df.groupby(\"방문코드\").cumcount() + 1\n",
    "\n",
    "df = df.sort_values(by='원래순서').reset_index(drop=True)\n",
    "df.drop(columns='원래순서', inplace=True)"
   ]
  },
  {
   "cell_type": "code",
   "execution_count": 7,
   "id": "058411e6-8e65-46b3-97d5-388e48d01efc",
   "metadata": {},
   "outputs": [],
   "source": [
    "# 📌 3. flag 생성\n",
    "for i in range(1, len(df)):\n",
    "    curr = df.iloc[i]\n",
    "    prev = df.iloc[i - 1]\n",
    "    if (\n",
    "        curr['자전거번호'] == prev['자전거번호'] and\n",
    "        curr['방문코드'] == prev['방문코드'] and\n",
    "        (curr['날짜+시간'] - prev['날짜+시간']) <= timedelta(minutes=30)\n",
    "    ):\n",
    "        df.at[i, 'flag'] = '가짜'"
   ]
  },
  {
   "cell_type": "code",
   "execution_count": 8,
   "id": "067f4462-d38a-492b-9828-6f349340efb3",
   "metadata": {},
   "outputs": [],
   "source": [
    "# 📌 4. first data&time, last data&time\n",
    "for code, group in df.groupby('방문코드'):\n",
    "    sorted_group = group.sort_values(by='순번')\n",
    "    first_idx = sorted_group.index[0]\n",
    "    last_idx = sorted_group.index[-1]\n",
    "    df.at[first_idx, 'first data&time'] = sorted_group.iloc[0]['날짜+시간']\n",
    "    df.at[last_idx, 'last data&time'] = sorted_group.iloc[-1]['날짜+시간']"
   ]
  },
  {
   "cell_type": "code",
   "execution_count": 9,
   "id": "a6c18942-7d26-4163-985b-7bca8a3825e3",
   "metadata": {},
   "outputs": [],
   "source": [
    "# 📌 5. 자전거대수 계산\n",
    "df['자전거대수'] = df.groupby('방문코드')['자전거번호'].transform('nunique')"
   ]
  },
  {
   "cell_type": "code",
   "execution_count": 10,
   "id": "9e6021a1-65bc-49aa-b1b0-6e8f75ba3d66",
   "metadata": {},
   "outputs": [],
   "source": [
    "# 📌 6. 컬럼 순서 정리\n",
    "final_columns = ['No', '자전거번호', '대여소', '대여소명', '날짜', '시간', '날짜+시간',\n",
    "                 '구분', '방문코드', '순번', 'flag', '자전거대수',\n",
    "                 'first data&time', 'last data&time']\n",
    "df = df[final_columns]"
   ]
  },
  {
   "cell_type": "code",
   "execution_count": 11,
   "id": "5e1695de-c2db-4c80-b744-7236b78ec331",
   "metadata": {},
   "outputs": [
    {
     "name": "stdout",
     "output_type": "stream",
     "text": [
      "✅ 5-2 파일 저장 완료!\n",
      "📁 저장 위치: D:\\pythondata\\5-2_회수배송_데이터(2).csv\n"
     ]
    }
   ],
   "source": [
    "# 📌 7. 저장\n",
    "output_path = r\"D:\\pythondata\\5-2_회수배송_데이터(2).csv\"\n",
    "df.to_csv(output_path, index=False, encoding='utf-8-sig')\n",
    "\n",
    "print(\"✅ 5-2 파일 저장 완료!\")\n",
    "print(\"📁 저장 위치:\", output_path)"
   ]
  }
 ],
 "metadata": {
  "kernelspec": {
   "display_name": "Python 3 (ipykernel)",
   "language": "python",
   "name": "python3"
  },
  "language_info": {
   "codemirror_mode": {
    "name": "ipython",
    "version": 3
   },
   "file_extension": ".py",
   "mimetype": "text/x-python",
   "name": "python",
   "nbconvert_exporter": "python",
   "pygments_lexer": "ipython3",
   "version": "3.9.12"
  }
 },
 "nbformat": 4,
 "nbformat_minor": 5
}
