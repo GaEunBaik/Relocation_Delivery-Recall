{
 "cells": [
  {
   "cell_type": "code",
   "execution_count": 1,
   "id": "a3eb6ad2-7126-45be-a45a-4de657002ca8",
   "metadata": {},
   "outputs": [
    {
     "name": "stdout",
     "output_type": "stream",
     "text": [
      "Requirement already satisfied: pandas in c:\\users\\administrator\\anaconda3\\lib\\site-packages (1.4.2)\n",
      "Requirement already satisfied: openpyxl in c:\\users\\administrator\\anaconda3\\lib\\site-packages (3.0.9)\n",
      "Requirement already satisfied: numpy>=1.18.5 in c:\\users\\administrator\\anaconda3\\lib\\site-packages (from pandas) (1.21.5)\n",
      "Requirement already satisfied: pytz>=2020.1 in c:\\users\\administrator\\anaconda3\\lib\\site-packages (from pandas) (2021.3)\n",
      "Requirement already satisfied: python-dateutil>=2.8.1 in c:\\users\\administrator\\anaconda3\\lib\\site-packages (from pandas) (2.8.2)\n",
      "Requirement already satisfied: et-xmlfile in c:\\users\\administrator\\anaconda3\\lib\\site-packages (from openpyxl) (1.1.0)\n",
      "Requirement already satisfied: six>=1.5 in c:\\users\\administrator\\anaconda3\\lib\\site-packages (from python-dateutil>=2.8.1->pandas) (1.16.0)\n",
      "Note: you may need to restart the kernel to use updated packages.\n"
     ]
    }
   ],
   "source": [
    "pip install pandas openpyxl"
   ]
  },
  {
   "cell_type": "code",
   "execution_count": 2,
   "id": "21d15c08-b0f0-4b23-97a7-528ba98bc837",
   "metadata": {},
   "outputs": [
    {
     "name": "stdout",
     "output_type": "stream",
     "text": [
      "✅ 감지된 인코딩: UTF-8-SIG\n",
      "자전거번호\t배송대여소\t배송대여소명\t배송일시\t배송시간\n",
      "\n",
      "SPB-42889\t102\t 망원역 1번출구 앞\t2023-01-01\t4:42:25 PM\n",
      "\n",
      "SPB-41193\t102\t 망원역 1번출구 앞\t2023-01-01\t4:43:40 PM\n",
      "\n",
      "SPB-80219\t102\t 망원역 1번출구 앞\t2023-01-01\t8:23:33 PM\n",
      "\n",
      "SPB-33754\t102\t 망원역 1번출구 앞\t2023-01-01\t8:28:41 PM\n",
      "\n"
     ]
    }
   ],
   "source": [
    "import pandas as pd\n",
    "import chardet\n",
    "\n",
    "file_path = r\"D:\\pythondata\\★_재배치_배송.csv\"\n",
    "\n",
    "# 인코딩 감지\n",
    "with open(file_path, 'rb') as f:\n",
    "    rawdata = f.read(10000)\n",
    "    detected_encoding = chardet.detect(rawdata)['encoding']\n",
    "    print(f\"✅ 감지된 인코딩: {detected_encoding}\")\n",
    "\n",
    "# 파일 처음 몇 줄 미리 보기 (정확한 구분자 파악)\n",
    "with open(file_path, 'r', encoding=detected_encoding, errors='replace') as f:\n",
    "    for i in range(5):\n",
    "        print(f.readline())"
   ]
  },
  {
   "cell_type": "code",
   "execution_count": null,
   "id": "d490e677-e084-4c14-979f-4f90d2f93120",
   "metadata": {},
   "outputs": [],
   "source": [
    "# 날짜+시간: 회수일시+회수시간\n",
    "# 방문횟수: \"회수대여소\"를 중심으로, 회수일시와 회수시간을 기준으로 30분 이상 시간 차이가 날 때마다 방문 횟수를 +1씩 증가시켜 계산한 방문기록 분석 결과\n",
    "# 자전거대수: \"방문횟수\"별 레코드수 집계 (max count)"
   ]
  },
  {
   "cell_type": "code",
   "execution_count": 3,
   "id": "eeea8dd1-30b5-469b-b8ea-191466283591",
   "metadata": {},
   "outputs": [
    {
     "name": "stdout",
     "output_type": "stream",
     "text": [
      "✅ CSV 저장 완료: D:\\pythondata\\배송_방문코드_전체데이터.csv\n",
      "✅ 요약 엑셀 저장 완료: D:\\pythondata\\배송_방문코드_요약.xlsx\n"
     ]
    }
   ],
   "source": [
    "import pandas as pd\n",
    "import os\n",
    "\n",
    "# 1. CSV 파일 경로 지정\n",
    "file_path = r\"D:\\pythondata\\★_재배치_배송.csv\"\n",
    "\n",
    "# 2. CSV 파일 안전하게 불러오기\n",
    "df = pd.read_csv(\n",
    "    file_path,\n",
    "    sep=\"\\t\",\n",
    "    encoding=\"utf-8-sig\",\n",
    "    dtype={\"배송대여소\": str}  # 혼합 타입 방지\n",
    ")\n",
    "\n",
    "# 3. 날짜 + 시간 합치기\n",
    "df[\"배송일시\"] = pd.to_datetime(df[\"배송일시\"] + \" \" + df[\"배송시간\"])\n",
    "\n",
    "# 4. 정렬\n",
    "df = df.sort_values(by=[\"배송대여소\", \"배송일시\"]).reset_index(drop=True)\n",
    "\n",
    "# 5. 방문코드 생성 (30분 이상 차이 날 때 새로운 방문코드)\n",
    "visit_code = []\n",
    "visit_index = 1\n",
    "visit_code.append(f\"A{visit_index:04d}\")\n",
    "\n",
    "for i in range(1, len(df)):\n",
    "    time_diff = df.loc[i, \"배송일시\"] - df.loc[i - 1, \"배송일시\"]\n",
    "    if time_diff.total_seconds() > 1800:\n",
    "        visit_index += 1\n",
    "    visit_code.append(f\"A{visit_index:04d}\")\n",
    "\n",
    "df[\"방문코드\"] = visit_code\n",
    "\n",
    "# 6. 순번 부여\n",
    "df[\"순번\"] = df.groupby(\"방문코드\").cumcount() + 1\n",
    "\n",
    "# 7. 방문코드별 자전거대수 계산\n",
    "df[\"자전거대수\"] = df.groupby(\"방문코드\")[\"배송대여소\"].transform(\"count\")\n",
    "\n",
    "# 8. 요약 테이블 생성\n",
    "summary = df.groupby(\"방문코드\")[\"배송대여소\"].count().reset_index()\n",
    "summary.columns = [\"방문코드\", \"레코드수\"]\n",
    "\n",
    "# 9. 📤 결과 저장\n",
    "# 9-1. 전체데이터는 CSV로 저장 (행 수 제한 없음)\n",
    "output_csv_path = r\"D:\\pythondata\\배송_방문코드_전체데이터.csv\"\n",
    "df.to_csv(output_csv_path, index=False, encoding=\"utf-8-sig\")\n",
    "\n",
    "# 9-2. 요약 데이터는 Excel 저장\n",
    "output_summary_path = r\"D:\\pythondata\\배송_방문코드_요약.xlsx\"\n",
    "with pd.ExcelWriter(output_summary_path, engine=\"openpyxl\") as writer:\n",
    "    summary.to_excel(writer, sheet_name=\"요약\", index=False)\n",
    "\n",
    "# 완료 메시지\n",
    "print(\"✅ CSV 저장 완료:\", output_csv_path)\n",
    "print(\"✅ 요약 엑셀 저장 완료:\", output_summary_path)"
   ]
  }
 ],
 "metadata": {
  "kernelspec": {
   "display_name": "Python 3 (ipykernel)",
   "language": "python",
   "name": "python3"
  },
  "language_info": {
   "codemirror_mode": {
    "name": "ipython",
    "version": 3
   },
   "file_extension": ".py",
   "mimetype": "text/x-python",
   "name": "python",
   "nbconvert_exporter": "python",
   "pygments_lexer": "ipython3",
   "version": "3.9.12"
  }
 },
 "nbformat": 4,
 "nbformat_minor": 5
}
