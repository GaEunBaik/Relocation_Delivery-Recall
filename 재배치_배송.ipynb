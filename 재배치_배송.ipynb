{
 "cells": [
  {
   "cell_type": "code",
   "execution_count": 1,
   "id": "a3eb6ad2-7126-45be-a45a-4de657002ca8",
   "metadata": {},
   "outputs": [
    {
     "name": "stdout",
     "output_type": "stream",
     "text": [
      "Requirement already satisfied: pandas in c:\\users\\administrator\\anaconda3\\lib\\site-packages (1.4.2)\n",
      "Requirement already satisfied: openpyxl in c:\\users\\administrator\\anaconda3\\lib\\site-packages (3.0.9)\n",
      "Requirement already satisfied: numpy>=1.18.5 in c:\\users\\administrator\\anaconda3\\lib\\site-packages (from pandas) (1.21.5)\n",
      "Requirement already satisfied: pytz>=2020.1 in c:\\users\\administrator\\anaconda3\\lib\\site-packages (from pandas) (2021.3)\n",
      "Requirement already satisfied: python-dateutil>=2.8.1 in c:\\users\\administrator\\anaconda3\\lib\\site-packages (from pandas) (2.8.2)\n",
      "Requirement already satisfied: et-xmlfile in c:\\users\\administrator\\anaconda3\\lib\\site-packages (from openpyxl) (1.1.0)\n",
      "Requirement already satisfied: six>=1.5 in c:\\users\\administrator\\anaconda3\\lib\\site-packages (from python-dateutil>=2.8.1->pandas) (1.16.0)\n",
      "Note: you may need to restart the kernel to use updated packages.\n"
     ]
    }
   ],
   "source": [
    "pip install pandas openpyxl"
   ]
  },
  {
   "cell_type": "code",
   "execution_count": 2,
   "id": "21d15c08-b0f0-4b23-97a7-528ba98bc837",
   "metadata": {},
   "outputs": [
    {
     "name": "stdout",
     "output_type": "stream",
     "text": [
      "✅ 감지된 인코딩: UTF-8-SIG\n",
      "자전거번호\t대여소\t대여소명\t날짜\t시간\n",
      "\n",
      "SPB-42889\t102\t 망원역 1번출구 앞\t2023-01-01\t4:42:25 PM\n",
      "\n",
      "SPB-41193\t102\t 망원역 1번출구 앞\t2023-01-01\t4:43:40 PM\n",
      "\n",
      "SPB-80219\t102\t 망원역 1번출구 앞\t2023-01-01\t8:23:33 PM\n",
      "\n",
      "SPB-33754\t102\t 망원역 1번출구 앞\t2023-01-01\t8:28:41 PM\n",
      "\n"
     ]
    }
   ],
   "source": [
    "import pandas as pd\n",
    "import chardet\n",
    "\n",
    "file_path = r\"D:\\pythondata\\★_재배치_배송.csv\"\n",
    "\n",
    "# 인코딩 감지\n",
    "with open(file_path, 'rb') as f:\n",
    "    rawdata = f.read(10000)\n",
    "    detected_encoding = chardet.detect(rawdata)['encoding']\n",
    "    print(f\"✅ 감지된 인코딩: {detected_encoding}\")\n",
    "\n",
    "# 파일 처음 몇 줄 미리 보기 (정확한 구분자 파악)\n",
    "with open(file_path, 'r', encoding=detected_encoding, errors='replace') as f:\n",
    "    for i in range(5):\n",
    "        print(f.readline())"
   ]
  },
  {
   "cell_type": "code",
   "execution_count": 3,
   "id": "d490e677-e084-4c14-979f-4f90d2f93120",
   "metadata": {},
   "outputs": [],
   "source": [
    "# 파일명\t내용\t포맷\n",
    "# 방문코드_전체데이터.csv\t전체 재배치 기록 + 방문코드\tCSV (제한 없음)\n",
    "# 방문코드_요약.xlsx\t방문코드별 레코드 수 요약\tExcel (엑셀 사용 편리)\n",
    "\n",
    "# 요청 항목\t반영 여부\t설명\n",
    "# 날짜+시간 컬럼 추가\t✅\t배송일시 + 배송시간 결합\n",
    "# 오름차순 정렬 기준 변경\t✅\t\"배송대여소\" → \"날짜+시간\" 순서\n",
    "# 기존 분석/저장 구조 유지\t✅\t방문코드, 순번, 자전거대수, 요약 저장\n",
    "\n",
    "# 내용\t처리 방식\n",
    "# NaN 배송대여소\t방문코드 계산에서 제외\n",
    "# A0001 시작\t배송대여소 정렬 후, 첫 유효 데이터부터 시작\n",
    "# 요약\tNaN 제외한 방문코드 기준으로 생성\n",
    "# 최종 저장\t정제된 df_valid + NaN 포함 df_null 병합하여 전체 저장\n",
    "\n",
    "# 항목\t결과\n",
    "# 배송대여소 순서\t숫자 기준 오름차순 (102, 105, 999, …)\n",
    "# 방문코드 A0001\t가장 작은 배송대여소에서 시작\n",
    "# NaN 대여소\t맨 뒤로 정렬되며, 방문코드도 이후 번호 부여\n",
    "# 순번\t각 방문코드 내에서 항상 1부터 시작\n",
    "\n",
    "# 배송대여소\t날짜+시간 차이\t방문코드 변화\t이유\n",
    "# 102\t-\tA0001\t첫 행\n",
    "# 102\t20분 차이\tA0001 유지\t같은 대여소, 시간차도 짧음\n",
    "# 105\t5분 차이\tA0002 시작\t대여소가 달라짐\n",
    "# 105\t35분 차이\tA0003 시작\t30분 초과\n",
    "\n",
    "# ✅ 최종 정리\n",
    "# 요청 항목\t설명\t적용 컬럼\n",
    "# ✅ 방문코드 자리수\tA000001처럼 6자리 포맷\t방문코드\n",
    "# ✅ 구분 컬럼 추가\t\"배송\" 고정값\t구분\n",
    "# ✅ 넘버링\t각 행에 대해 1부터 부여\tNo 컬럼 생성\n",
    "\n",
    "# ✅ 주요 수정 사항 포함\n",
    "# \"No\" 컬럼을 가장 왼쪽으로 이동\n",
    "# \"first data&time\" / \"last data&time\" 컬럼 추가\n",
    "# \"first data&time\" / \"last data&time\" 컬럼 추가 (중간 순번은 공란 처리)"
   ]
  },
  {
   "cell_type": "code",
   "execution_count": 4,
   "id": "eeea8dd1-30b5-469b-b8ea-191466283591",
   "metadata": {},
   "outputs": [
    {
     "name": "stdout",
     "output_type": "stream",
     "text": [
      "✅ CSV 저장 완료: D:\\pythondata\\배송_방문코드_전체데이터.csv\n",
      "✅ 요약 엑셀 저장 완료: D:\\pythondata\\배송_방문코드_요약.xlsx\n"
     ]
    }
   ],
   "source": [
    "import pandas as pd\n",
    "import os\n",
    "\n",
    "# 1. CSV 파일 경로\n",
    "file_path = r\"D:\\pythondata\\★_재배치_배송.csv\"\n",
    "\n",
    "# 2. 안전하게 불러오기\n",
    "df = pd.read_csv(\n",
    "    file_path,\n",
    "    sep=\"\\t\",\n",
    "    encoding=\"utf-8-sig\",\n",
    "    dtype={\"대여소\": str}\n",
    ")\n",
    "\n",
    "# 3. '날짜+시간' 컬럼 생성\n",
    "df[\"날짜+시간\"] = pd.to_datetime(df[\"날짜\"] + \" \" + df[\"시간\"])\n",
    "\n",
    "# 4. 배송대여소 정렬용 숫자 컬럼\n",
    "df[\"대여소_정렬\"] = pd.to_numeric(df[\"대여소\"], errors=\"coerce\")\n",
    "\n",
    "# 5. 정렬: 배송대여소 → 날짜+시간\n",
    "df = df.sort_values(by=[\"대여소_정렬\", \"날짜+시간\"]).reset_index(drop=True)\n",
    "\n",
    "# 6. 방문코드 생성 (배송대여소 변경 or 30분 초과)\n",
    "visit_code = []\n",
    "visit_index = 1\n",
    "visit_code.append(f\"A{visit_index:06d}\")  # A000001\n",
    "\n",
    "for i in range(1, len(df)):\n",
    "    time_diff = df.loc[i, \"날짜+시간\"] - df.loc[i - 1, \"날짜+시간\"]\n",
    "    location_changed = df.loc[i, \"대여소\"] != df.loc[i - 1, \"대여소\"]\n",
    "    if time_diff.total_seconds() > 1800 or location_changed:\n",
    "        visit_index += 1\n",
    "    visit_code.append(f\"A{visit_index:06d}\")\n",
    "\n",
    "df[\"방문코드\"] = visit_code\n",
    "\n",
    "# 7. 순번: 각 방문코드별 1부터\n",
    "df[\"순번\"] = df.groupby(\"방문코드\").cumcount() + 1\n",
    "\n",
    "# 8. 자전거대수: 방문코드별 count\n",
    "df[\"자전거대수\"] = df.groupby(\"방문코드\")[\"대여소\"].transform(\"count\")\n",
    "\n",
    "# ✅ 9. 구분 컬럼 추가\n",
    "df[\"구분\"] = \"배송\"\n",
    "\n",
    "# ✅ 10. No 넘버링 (인덱스 순서대로 1부터 부여)\n",
    "df[\"No\"] = df.index + 1\n",
    "\n",
    "# ✅ 10-1. No 컬럼을 가장 왼쪽으로 이동\n",
    "cols = df.columns.tolist()\n",
    "cols = [\"No\"] + [col for col in cols if col != \"No\"]\n",
    "df = df[cols]\n",
    "\n",
    "# ✅ 10-2. 방문코드별 first/last data&time 컬럼 추가 (중간 순번은 공란 처리)\n",
    "df[\"first data&time\"] = pd.NaT\n",
    "df[\"last data&time\"] = pd.NaT\n",
    "\n",
    "df.loc[df[\"순번\"] == 1, \"first data&time\"] = df[\"날짜+시간\"]\n",
    "df.loc[df[\"순번\"] == df[\"자전거대수\"], \"last data&time\"] = df[\"날짜+시간\"]\n",
    "\n",
    "# 11. 요약 테이블\n",
    "summary = df.groupby(\"방문코드\")[\"대여소\"].count().reset_index()\n",
    "summary.columns = [\"방문코드\", \"레코드수\"]\n",
    "\n",
    "# 12. 정리: 불필요한 정렬용 컬럼 제거\n",
    "df.drop(columns=[\"대여소_정렬\"], inplace=True)\n",
    "\n",
    "# 13. 저장\n",
    "output_csv_path = r\"D:\\pythondata\\배송_방문코드_전체데이터.csv\"\n",
    "df.to_csv(output_csv_path, index=False, encoding=\"utf-8-sig\")\n",
    "\n",
    "output_summary_path = r\"D:\\pythondata\\배송_방문코드_요약.xlsx\"\n",
    "with pd.ExcelWriter(output_summary_path, engine=\"openpyxl\") as writer:\n",
    "    summary.to_excel(writer, sheet_name=\"요약\", index=False)\n",
    "\n",
    "# 14. 완료 메시지\n",
    "print(\"✅ CSV 저장 완료:\", output_csv_path)\n",
    "print(\"✅ 요약 엑셀 저장 완료:\", output_summary_path)"
   ]
  }
 ],
 "metadata": {
  "kernelspec": {
   "display_name": "Python 3 (ipykernel)",
   "language": "python",
   "name": "python3"
  },
  "language_info": {
   "codemirror_mode": {
    "name": "ipython",
    "version": 3
   },
   "file_extension": ".py",
   "mimetype": "text/x-python",
   "name": "python",
   "nbconvert_exporter": "python",
   "pygments_lexer": "ipython3",
   "version": "3.9.12"
  }
 },
 "nbformat": 4,
 "nbformat_minor": 5
}
