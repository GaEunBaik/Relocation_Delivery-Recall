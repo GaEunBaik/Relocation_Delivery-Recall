{
 "cells": [
  {
   "cell_type": "code",
   "execution_count": 1,
   "id": "a8f92da6-c890-40fe-8fe5-ef3160b71e70",
   "metadata": {},
   "outputs": [],
   "source": [
    "# ------ 요청사항 ------\n",
    "\n",
    "# 0. 파일 경로 \n",
    "# file_path = r\"D:\\pythondata\\★_재배치_회수.csv\"\n",
    "# file_path = r\"D:\\pythondata\\★_재배치_배송.csv\"\n",
    "# 1. 먼저, 두 파일을 하나의 파일로 합친 후 \n",
    "# 2. 회수 파일과 배송 파일을 구분하기 위해서 \"구분\"이라는 이름의 필드를 마지막 컬럼으로 생성해서 적어두면 좋겠어요.\n",
    "# 3. 원본데이터 필드는 \"자전거번호,대여소,대여소명,날짜,시간\"이고, \"날짜+시간\"이라는 필드를 만들어 주세요.\n",
    "# 4. \"대여소, 날짜, 시간\"으로 정렬(sorting)하고 시작하는데,\n",
    "# 5. No라는 컬럼을 가장 왼쪽에 생성하고, 정렬 순서(단순 정렬 개념)에 따라서 제일 윗줄부터 1로 시작하면 좋겠어요.\n",
    "# 6. 이 파일을 \"5-1_회수배송_데이터(1)\"라는 이름으로 csv파일을 저장해 주세요.\n",
    "# 7. 정리하면, \"두 개 파일(★_재배치_회수.csv, ★_재배치_배송.csv)을 합쳐서 \"구분\"이라는 이름의 필드와 \"No\"라는 이름의 필드, \"날짜+시간\" 필드를 새로 만든다. \n",
    "#    \"대여소\"가 낮은 순서(102번부터 시작)이면서 \"날짜+시간\" 필드가 빠른 순서(오름차순 정렬, 2023년 1월 1일 0시 0분 0초부터)로 정렬. 정렬된 순서에 따라서 \"No\"의 번호 넣기\" 입니다!"
   ]
  },
  {
   "cell_type": "code",
   "execution_count": 2,
   "id": "9db7c6ec-c564-4e5c-a5bb-b43d107d4a98",
   "metadata": {},
   "outputs": [
    {
     "name": "stdout",
     "output_type": "stream",
     "text": [
      "✅ 5-1 파일 저장 완료! D:\\pythondata\\5-1_회수배송_데이터(1).csv\n"
     ]
    }
   ],
   "source": [
    "import pandas as pd\n",
    "\n",
    "# 0. 파일 경로\n",
    "path_retrieve = r\"D:\\pythondata\\★_재배치_회수.csv\"\n",
    "path_delivery = r\"D:\\pythondata\\★_재배치_배송.csv\"\n",
    "\n",
    "# 1. 파일 불러오기 (탭 구분자 + 인코딩 처리 + 대여소 문자 처리)\n",
    "df_retrieve = pd.read_csv(path_retrieve, encoding='utf-8-sig', sep=\"\\t\", dtype={'대여소': str})\n",
    "df_delivery = pd.read_csv(path_delivery, encoding='utf-8-sig', sep=\"\\t\", dtype={'대여소': str})\n",
    "\n",
    "# 2. '구분' 필드 추가 (일단 추가는 지금 하고, 나중에 마지막 컬럼으로 이동)\n",
    "df_retrieve['구분'] = '회수'\n",
    "df_delivery['구분'] = '배송'\n",
    "\n",
    "# 3. 병합\n",
    "df = pd.concat([df_retrieve, df_delivery], ignore_index=True)\n",
    "\n",
    "# 4. '날짜+시간' 필드 생성\n",
    "df['날짜+시간'] = pd.to_datetime(df['날짜'] + ' ' + df['시간'])\n",
    "\n",
    "# 5. 정렬 기준: ① 대여소 번호를 숫자로 변환해서 정렬 (102가 위로) ② 날짜+시간 오름차순\n",
    "df['대여소_정렬용'] = pd.to_numeric(df['대여소'], errors='coerce')  # 숫자로 변환 불가능한 것은 NaN 처리\n",
    "df = df.sort_values(by=['대여소_정렬용', '날짜+시간']).reset_index(drop=True)\n",
    "df.drop(columns='대여소_정렬용', inplace=True)  # 임시 정렬 컬럼 제거\n",
    "\n",
    "# 6. No 필드 추가 (가장 왼쪽에 삽입)\n",
    "df.insert(0, 'No', df.index + 1)\n",
    "\n",
    "# 7. 컬럼 순서 정리: '구분'은 마지막으로 이동\n",
    "cols = [col for col in df.columns if col != '구분'] + ['구분']\n",
    "df = df[cols]\n",
    "\n",
    "# 8. 저장 및 완료 메시지\n",
    "output_path = r\"D:\\pythondata\\5-1_회수배송_데이터(1).csv\"\n",
    "df.to_csv(output_path, index=False, encoding='utf-8-sig')\n",
    "\n",
    "print(\"✅ 5-1 파일 저장 완료!\", output_path)"
   ]
  },
  {
   "cell_type": "code",
   "execution_count": 3,
   "id": "a996ce13-7461-42d8-8c33-d16a37f97348",
   "metadata": {},
   "outputs": [
    {
     "data": {
      "text/plain": [
       "'\\nimport pandas as pd\\nfrom datetime import timedelta\\n\\n# 8. 파일 불러오기\\nfile_path = r\"D:\\\\pythondata\\x05-1_회수배송_데이터(1).csv\"\\ndf = pd.read_csv(file_path, encoding=\\'utf-8-sig\\', dtype={\\'대여소\\': str, \\'대여소명\\': str})\\n\\n# 날짜+시간 컬럼을 datetime 타입으로 재변환 (불러오면 object일 수 있음)\\ndf[\\'날짜+시간\\'] = pd.to_datetime(df[\\'날짜+시간\\'])\\n\\n# 9. 새 필드 초기화\\ndf[\\'방문코드\\'] = \\'\\'\\ndf[\\'순번\\'] = 0\\ndf[\\'flag\\'] = \\'\\'\\ndf[\\'자전거대수\\'] = 0\\ndf[\\'first data&time\\'] = \\'\\'\\ndf[\\'last data&time\\'] = \\'\\'\\n\\n# 11~12. 방문코드 및 순번 생성\\nvisit_code_counter = 1\\nprev_rows = {}  # key: (대여소, 자전거번호) → (last_datetime, visit_code, seq_num)\\n\\nfor idx, row in df.iterrows():\\n    key = (row[\\'대여소\\'], row[\\'자전거번호\\'])\\n    curr_time = row[\\'날짜+시간\\']\\n\\n    if key not in prev_rows or (curr_time - prev_rows[key][0]) > timedelta(minutes=30):\\n        visit_code = f\"A{visit_code_counter:07d}\"\\n        visit_code_counter += 1\\n        visit_seq = 1\\n    else:\\n        visit_code = prev_rows[key][1]\\n        visit_seq = prev_rows[key][2] + 1\\n\\n    df.at[idx, \\'방문코드\\'] = visit_code\\n    df.at[idx, \\'순번\\'] = visit_seq\\n    prev_rows[key] = (curr_time, visit_code, visit_seq)\\n\\n# 13. flag 처리: 동일 방문코드 내에서 같은 자전거번호가 30분 이내일 때 아래 행만 \\'가짜\\'\\ndf = df.sort_values(by=[\\'대여소\\', \\'자전거번호\\', \\'날짜+시간\\']).reset_index(drop=True)\\ndf[\\'flag\\'] = \\'\\'  # 다시 초기화\\n\\nfor i in range(1, len(df)):\\n    curr = df.iloc[i]\\n    prev = df.iloc[i - 1]\\n\\n    if curr[\\'자전거번호\\'] == prev[\\'자전거번호\\'] and        curr[\\'방문코드\\'] == prev[\\'방문코드\\'] and        (curr[\\'날짜+시간\\'] - prev[\\'날짜+시간\\']) <= timedelta(minutes=30):\\n        df.at[i, \\'flag\\'] = \\'가짜\\'\\n\\n# 14. first / last data&time 처리\\ndf[\\'first data&time\\'] = \\'\\'\\ndf[\\'last data&time\\'] = \\'\\'\\n\\nfor code, group in df.groupby(\\'방문코드\\'):\\n    group_sorted = group.sort_values(by=\\'순번\\')\\n    first_idx = group_sorted.index[0]\\n    last_idx = group_sorted.index[-1]\\n    df.at[first_idx, \\'first data&time\\'] = group_sorted.iloc[0][\\'날짜+시간\\']\\n    df.at[last_idx, \\'last data&time\\'] = group_sorted.iloc[-1][\\'날짜+시간\\']\\n\\n# 15. 자전거대수 계산 (방문코드별 고유 자전거 수)\\nfor code, group in df.groupby(\\'방문코드\\'):\\n    count = group[\\'자전거번호\\'].nunique()\\n    df.loc[df[\\'방문코드\\'] == code, \\'자전거대수\\'] = count\\n\\n# 16. 최종 컬럼 순서 정리\\nfinal_columns = [\\'No\\', \\'자전거번호\\', \\'대여소\\', \\'대여소명\\', \\'날짜\\', \\'시간\\', \\'날짜+시간\\',\\n                 \\'방문코드\\', \\'순번\\', \\'flag\\', \\'자전거대수\\',\\n                 \\'first data&time\\', \\'last data&time\\', \\'구분\\']\\ndf = df[final_columns]\\n\\n# 17. 저장\\noutput_path = r\"D:\\\\pythondata\\x05-2_회수배송_데이터(2).csv\"\\ndf.to_csv(output_path, index=False, encoding=\\'utf-8-sig\\')\\n\\nprint(\"✅ 5-2 파일 저장 완료!\", output_path)\\n'"
      ]
     },
     "execution_count": 3,
     "metadata": {},
     "output_type": "execute_result"
    }
   ],
   "source": [
    "# ------ 요청사항 ------\n",
    "\n",
    "# 8. file_path = r\"D:\\pythondata\\5-1_회수배송_데이터(1).csv\"를 다시 읽고, \n",
    "# 9. 추가해서 만들 필드는 \"방문코드,순번,flag,자전거대수,first data&time,last data&time\" 6개예요.\n",
    "# 10. 필드의 순서는 총 14개 \"No,자전거번호,대여소,대여소명,날짜,시간,날짜+시간,구분,방문코드,순번,flag,자전거대수,first data&time,last data&time\"으로 해주세요. \n",
    "#     5-1에 있는 데이터는 그대로 두고, 방문코드부터 last data&time까지 6개 필드를 새로 만드는 거예요.\n",
    "# 11. \"대여소\"(102번 대여소가 가장 위에 와야 함)별로 \"자전거번호\"가 \"날짜+시간\"의 간격이 \"30분\"이상일 때 \"방문코드\"가 변경되는 것이 원칙이예요. \n",
    "#     더는 데이터를 정렬할 필요는 없으니까,  30분 이상의 시간 차가 나타날 때 방문코드가 새로 생성되는 거예요. 방문코드별로 순번이 정해지는 것이고, \n",
    "#     방문코드를 세어(count) 주는 것이 자전거대수 필드에 들어가겠죠.\n",
    "# 12. \"방문코드\"의 시작 번호는 \"A0000001\"로 시작해야 하구요. \"순번\"은 \"방문코드\"에 따라서 1부터 시작해요.\n",
    "# 13. \"flag\" 칼럼은 동일한 \"방문코드\"를 가지고 있을 때, 동일한 \"자전거번호\"가 30분 이내에 위아래 행에 위치하면 아래 행에만 \"가짜\"라고 적으면 돼요.\n",
    "# 14. 그리고 \"first data&time\"과 \"last data&time\"은 동일한 \"방문코드\"의 \"순번\" \"1\"이 \"first data&time\"에 위치하면 되고, \n",
    "#     해당 \"방문코드\"의 \"마지막 순번\"이 \"last data&time\"에 위치하면 돼요. \n",
    "# 15. \"flag\" 칼럼의 \"가짜\"라는 단어때문에 코딩이 꼬여서 모든 칸이 채워지지 않았으면 좋겠어요. 해당 순번이 있는 행(row)에만 위치하면 돼요. \n",
    "# 16. \"flag\" 칼럼에 \"가짜\"라는 단어가 있어도, 동일 \"방문코드\"의 마지막 \"순번\"에서 \"날짜+시간\" 중 마지막이요!!\n",
    "# 17. 이 파일의 이름은 \"5-2_회수배송_데이터(2)\"라고 지정해서 저장해 주세요.\n",
    "\n",
    "# 아래 코드가 시간이 너무 오래 걸려, 5단계로 쪼갬\n",
    "\"\"\"\n",
    "import pandas as pd\n",
    "from datetime import timedelta\n",
    "\n",
    "# 8. 파일 불러오기\n",
    "file_path = r\"D:\\pythondata\\5-1_회수배송_데이터(1).csv\"\n",
    "df = pd.read_csv(file_path, encoding='utf-8-sig', dtype={'대여소': str, '대여소명': str})\n",
    "\n",
    "# 날짜+시간 컬럼을 datetime 타입으로 재변환 (불러오면 object일 수 있음)\n",
    "df['날짜+시간'] = pd.to_datetime(df['날짜+시간'])\n",
    "\n",
    "# 9. 새 필드 초기화\n",
    "df['방문코드'] = ''\n",
    "df['순번'] = 0\n",
    "df['flag'] = ''\n",
    "df['자전거대수'] = 0\n",
    "df['first data&time'] = ''\n",
    "df['last data&time'] = ''\n",
    "\n",
    "# 11~12. 방문코드 및 순번 생성\n",
    "visit_code_counter = 1\n",
    "prev_rows = {}  # key: (대여소, 자전거번호) → (last_datetime, visit_code, seq_num)\n",
    "\n",
    "for idx, row in df.iterrows():\n",
    "    key = (row['대여소'], row['자전거번호'])\n",
    "    curr_time = row['날짜+시간']\n",
    "\n",
    "    if key not in prev_rows or (curr_time - prev_rows[key][0]) > timedelta(minutes=30):\n",
    "        visit_code = f\"A{visit_code_counter:07d}\"\n",
    "        visit_code_counter += 1\n",
    "        visit_seq = 1\n",
    "    else:\n",
    "        visit_code = prev_rows[key][1]\n",
    "        visit_seq = prev_rows[key][2] + 1\n",
    "\n",
    "    df.at[idx, '방문코드'] = visit_code\n",
    "    df.at[idx, '순번'] = visit_seq\n",
    "    prev_rows[key] = (curr_time, visit_code, visit_seq)\n",
    "\n",
    "# 13. flag 처리: 동일 방문코드 내에서 같은 자전거번호가 30분 이내일 때 아래 행만 '가짜'\n",
    "df = df.sort_values(by=['대여소', '자전거번호', '날짜+시간']).reset_index(drop=True)\n",
    "df['flag'] = ''  # 다시 초기화\n",
    "\n",
    "for i in range(1, len(df)):\n",
    "    curr = df.iloc[i]\n",
    "    prev = df.iloc[i - 1]\n",
    "\n",
    "    if curr['자전거번호'] == prev['자전거번호'] and \\\n",
    "       curr['방문코드'] == prev['방문코드'] and \\\n",
    "       (curr['날짜+시간'] - prev['날짜+시간']) <= timedelta(minutes=30):\n",
    "        df.at[i, 'flag'] = '가짜'\n",
    "\n",
    "# 14. first / last data&time 처리\n",
    "df['first data&time'] = ''\n",
    "df['last data&time'] = ''\n",
    "\n",
    "for code, group in df.groupby('방문코드'):\n",
    "    group_sorted = group.sort_values(by='순번')\n",
    "    first_idx = group_sorted.index[0]\n",
    "    last_idx = group_sorted.index[-1]\n",
    "    df.at[first_idx, 'first data&time'] = group_sorted.iloc[0]['날짜+시간']\n",
    "    df.at[last_idx, 'last data&time'] = group_sorted.iloc[-1]['날짜+시간']\n",
    "\n",
    "# 15. 자전거대수 계산 (방문코드별 고유 자전거 수)\n",
    "for code, group in df.groupby('방문코드'):\n",
    "    count = group['자전거번호'].nunique()\n",
    "    df.loc[df['방문코드'] == code, '자전거대수'] = count\n",
    "\n",
    "# 16. 최종 컬럼 순서 정리\n",
    "final_columns = ['No', '자전거번호', '대여소', '대여소명', '날짜', '시간', '날짜+시간',\n",
    "                 '방문코드', '순번', 'flag', '자전거대수',\n",
    "                 'first data&time', 'last data&time', '구분']\n",
    "df = df[final_columns]\n",
    "\n",
    "# 17. 저장\n",
    "output_path = r\"D:\\pythondata\\5-2_회수배송_데이터(2).csv\"\n",
    "df.to_csv(output_path, index=False, encoding='utf-8-sig')\n",
    "\n",
    "print(\"✅ 5-2 파일 저장 완료!\", output_path)\n",
    "\"\"\""
   ]
  },
  {
   "cell_type": "markdown",
   "id": "7c464189-fcb1-4778-b52c-192ca0e975ec",
   "metadata": {},
   "source": [
    "### ✅ 1단계: 파일 불러오기 및 필드 생성 (방문코드~last data&time)\n",
    "5-1 파일 불러오기<br>\n",
    "방문코드, 순번, flag, 자전거대수, first/last data&time 필드 초기화"
   ]
  },
  {
   "cell_type": "code",
   "execution_count": 4,
   "id": "88a2ae46-9c2e-42eb-b485-e0e977d57d4d",
   "metadata": {},
   "outputs": [
    {
     "name": "stdout",
     "output_type": "stream",
     "text": [
      "✅ 1단계: 파일 불러오기 및 필드 생성 완료\n"
     ]
    }
   ],
   "source": [
    "import pandas as pd\n",
    "\n",
    "# 1단계: 파일 불러오기 및 새 필드 생성\n",
    "file_path = r\"D:\\pythondata\\5-1_회수배송_데이터(1).csv\"\n",
    "df = pd.read_csv(file_path, encoding='utf-8-sig', dtype={'대여소': str, '대여소명': str})\n",
    "df['날짜+시간'] = pd.to_datetime(df['날짜+시간'])\n",
    "\n",
    "# 👉 새 필드 생성 (create)\n",
    "df['방문코드'] = ''\n",
    "df['순번'] = 0\n",
    "df['flag'] = ''\n",
    "df['자전거대수'] = 0\n",
    "df['first data&time'] = ''\n",
    "df['last data&time'] = ''\n",
    "\n",
    "print(\"✅ 1단계: 파일 불러오기 및 필드 생성 완료\")"
   ]
  },
  {
   "cell_type": "markdown",
   "id": "418f910b-bf03-4ca3-b3ee-da1099c18064",
   "metadata": {},
   "source": [
    "### ✅ 2단계: 방문코드 및 순번 생성 (30분 기준, 정렬 없이 그대로 처리)\n",
    "기존 정렬 그대로 사용<br>\n",
    "같은 대여소 + 자전거번호 그룹 내에서 30분 초과 시 새로운 방문코드 부여"
   ]
  },
  {
   "cell_type": "code",
   "execution_count": 5,
   "id": "4d27b201-d48e-4ac1-87d0-0aa9e16f42ce",
   "metadata": {},
   "outputs": [
    {
     "name": "stdout",
     "output_type": "stream",
     "text": [
      "✅ 2단계: 방문코드 및 순번 생성 완료\n"
     ]
    }
   ],
   "source": [
    "from datetime import timedelta\n",
    "\n",
    "# 2단계: 방문코드 및 순번 생성\n",
    "visit_code_counter = 1\n",
    "prev_key = None\n",
    "prev_time = None\n",
    "current_code = ''\n",
    "current_seq = 0\n",
    "\n",
    "visit_code_list = []\n",
    "visit_seq_list = []\n",
    "\n",
    "for _, row in df.iterrows():\n",
    "    key = (row['대여소'], row['자전거번호'])\n",
    "    curr_time = row['날짜+시간']\n",
    "\n",
    "    if key != prev_key or (curr_time - prev_time) > timedelta(minutes=30):\n",
    "        current_code = f\"A{visit_code_counter:07d}\"\n",
    "        visit_code_counter += 1\n",
    "        current_seq = 1\n",
    "    else:\n",
    "        current_seq += 1\n",
    "\n",
    "    visit_code_list.append(current_code)\n",
    "    visit_seq_list.append(current_seq)\n",
    "\n",
    "    prev_key = key\n",
    "    prev_time = curr_time\n",
    "\n",
    "df['방문코드'] = visit_code_list\n",
    "df['순번'] = visit_seq_list\n",
    "\n",
    "print(\"✅ 2단계: 방문코드 및 순번 생성 완료\")"
   ]
  },
  {
   "cell_type": "markdown",
   "id": "9c988c1a-0443-4bc4-a19c-59d06628043b",
   "metadata": {},
   "source": [
    "### ✅ 3단계: flag 생성 (방문코드 내 자전거번호 중복 & 30분 이내일 때 아래행에만 \"가짜\")\n",
    "동일 방문코드 + 자전거번호가 30분 이내일 때 → 아래 행에 \"가짜\" 표시"
   ]
  },
  {
   "cell_type": "code",
   "execution_count": 6,
   "id": "60830a1c-7d73-4869-94f2-57ad4b80cd9b",
   "metadata": {},
   "outputs": [
    {
     "name": "stdout",
     "output_type": "stream",
     "text": [
      "✅ 3단계: flag 생성 완료\n"
     ]
    }
   ],
   "source": [
    "# 3단계: flag 생성\n",
    "df['flag'] = ''  # 재생성\n",
    "\n",
    "for i in range(1, len(df)):\n",
    "    curr = df.iloc[i]\n",
    "    prev = df.iloc[i - 1]\n",
    "\n",
    "    if curr['자전거번호'] == prev['자전거번호'] and \\\n",
    "       curr['방문코드'] == prev['방문코드'] and \\\n",
    "       (curr['날짜+시간'] - prev['날짜+시간']) <= timedelta(minutes=30):\n",
    "        df.at[i, 'flag'] = '가짜'\n",
    "\n",
    "print(\"✅ 3단계: flag 생성 완료\")"
   ]
  },
  {
   "cell_type": "markdown",
   "id": "4276eade-561c-47d1-a885-20b6ec12316d",
   "metadata": {},
   "source": [
    "### ✅ 4단계: first data&time, last data&time 생성 (방문코드별 순번 기준)\n",
    "방문코드 그룹별로 순번=1은 first, 마지막은 last"
   ]
  },
  {
   "cell_type": "code",
   "execution_count": 7,
   "id": "a92a709e-ee57-4a1d-ab87-2f824775a765",
   "metadata": {},
   "outputs": [
    {
     "name": "stdout",
     "output_type": "stream",
     "text": [
      "✅ 4단계: first / last data&time 생성 완료\n"
     ]
    }
   ],
   "source": [
    "# 4단계: first / last data&time 생성\n",
    "df['first data&time'] = ''\n",
    "df['last data&time'] = ''\n",
    "\n",
    "for code, group in df.groupby('방문코드'):\n",
    "    group_sorted = group.sort_values(by='순번')\n",
    "    first_idx = group_sorted.index[0]\n",
    "    last_idx = group_sorted.index[-1]\n",
    "    df.at[first_idx, 'first data&time'] = group_sorted.iloc[0]['날짜+시간']\n",
    "    df.at[last_idx, 'last data&time'] = group_sorted.iloc[-1]['날짜+시간']\n",
    "\n",
    "print(\"✅ 4단계: first / last data&time 생성 완료\")"
   ]
  },
  {
   "cell_type": "markdown",
   "id": "ae66c4c7-3e6c-496b-bfaa-ec38106cdd62",
   "metadata": {},
   "source": [
    "### ✅ 5단계: 자전거대수 생성 + 컬럼 순서 정리 + 파일 저장\n",
    "방문코드별 고유 자전거번호 수 → 모든 행에 동일 값 부여<br>\n",
    "컬럼 순서 정리 후 5-2_회수배송_데이터(2).csv로 저장"
   ]
  },
  {
   "cell_type": "code",
   "execution_count": 8,
   "id": "28ba0d7b-c36b-420b-9ab4-dcdd3c604de8",
   "metadata": {},
   "outputs": [
    {
     "name": "stdout",
     "output_type": "stream",
     "text": [
      "✅ 5단계: 자전거대수 생성 및 저장 완료\n",
      "📁 저장 파일: D:\\pythondata\\5-2_회수배송_데이터(2).csv\n"
     ]
    }
   ],
   "source": [
    "# 5단계: 자전거대수 생성\n",
    "df['자전거대수'] = df.groupby('방문코드')['자전거번호'].transform('nunique')\n",
    "\n",
    "# 컬럼 순서 정리 (요청한 순서 반영)\n",
    "final_columns = ['No', '자전거번호', '대여소', '대여소명', '날짜', '시간', '날짜+시간',\n",
    "                 '구분', '방문코드', '순번', 'flag', '자전거대수',\n",
    "                 'first data&time', 'last data&time']\n",
    "df = df[final_columns]\n",
    "\n",
    "# 저장\n",
    "output_path = r\"D:\\pythondata\\5-2_회수배송_데이터(2).csv\"\n",
    "df.to_csv(output_path, index=False, encoding='utf-8-sig')\n",
    "\n",
    "print(\"✅ 5단계: 자전거대수 생성 및 저장 완료\")\n",
    "print(\"📁 저장 파일:\", output_path)"
   ]
  }
 ],
 "metadata": {
  "kernelspec": {
   "display_name": "Python 3 (ipykernel)",
   "language": "python",
   "name": "python3"
  },
  "language_info": {
   "codemirror_mode": {
    "name": "ipython",
    "version": 3
   },
   "file_extension": ".py",
   "mimetype": "text/x-python",
   "name": "python",
   "nbconvert_exporter": "python",
   "pygments_lexer": "ipython3",
   "version": "3.9.12"
  }
 },
 "nbformat": 4,
 "nbformat_minor": 5
}
